{
 "metadata": {
  "name": "",
  "signature": "sha256:8c0c80dd594368f30af08236b8e0d4ad3ecebe69ca7302792d070c4251c20bd2"
 },
 "nbformat": 3,
 "nbformat_minor": 0,
 "worksheets": [
  {
   "cells": [
    {
     "cell_type": "markdown",
     "metadata": {},
     "source": [
      "## Web Scraping\n",
      "\n",
      "Obtaining information about various diseases in countries from wikipedia\n",
      "\n",
      "Link- http://en.wikipedia.org/wiki/List_of_notifiable_diseases"
     ]
    },
    {
     "cell_type": "code",
     "collapsed": false,
     "input": [
      "from collections import defaultdict\n",
      "import numpy as np\n",
      "import pandas as pd\n",
      "import matplotlib.pyplot as plt\n",
      "import requests\n",
      "from pattern import web\n",
      "\n"
     ],
     "language": "python",
     "metadata": {},
     "outputs": [],
     "prompt_number": 2
    },
    {
     "cell_type": "markdown",
     "metadata": {},
     "source": [
      "#### So 'requests.get' fetches the information on the page, which I then stored in the variable html. I used the web package to separate each DOM into its own object. "
     ]
    },
    {
     "cell_type": "code",
     "collapsed": false,
     "input": [
      "url=\"http://en.wikipedia.org/wiki/List_of_notifiable_diseases\"\n",
      "html=requests.get(url).text\n",
      "dom=web.Element(html)\n",
      "print dom"
     ],
     "language": "python",
     "metadata": {},
     "outputs": [],
     "prompt_number": 3
    },
    {
     "cell_type": "markdown",
     "metadata": {},
     "source": [
      "#### Then I separated out the 'h2' header objects, and from each of their first 'span' objects, I extracted the different disease causes or vectors"
     ]
    },
    {
     "cell_type": "code",
     "collapsed": false,
     "input": [
      "h2_types=dom('h2')\n",
      "vectors=[]\n",
      "for v in h2_types[1:4]:\n",
      "    print v, \"\\n\"\n",
      "    vectors.append(v('span')[0].content)\n",
      "print \"\\n\", vectors"
     ],
     "language": "python",
     "metadata": {},
     "outputs": [
      {
       "output_type": "stream",
       "stream": "stdout",
       "text": [
        "\n",
        "[u'Bacteria', u'Virus', u'Other/multiple']\n"
       ]
      }
     ],
     "prompt_number": 4
    },
    {
     "cell_type": "markdown",
     "metadata": {},
     "source": [
      "#### Then, I store information from each table by tag in the tables variable. Now each table's first 'tr' tag  has 'a' tags, the alternate ones  contain the country name. Parse through these to obtain a list of countries considered"
     ]
    },
    {
     "cell_type": "code",
     "collapsed": false,
     "input": [
      "tables=dom.by_tag('table')\n",
      "countries=[]\n",
      "for t in tables:\n",
      "    for i in range(0, len(t('tr')[0]('a')), 2):\n",
      "        if t('tr')[0]('a')[i].content not in countries:\n",
      "            print t('tr')[0]('a')[i], i\n",
      "            countries.append(t('tr')[0]('a')[i].content)\n",
      "print \"\\n\",countries"
     ],
     "language": "python",
     "metadata": {},
     "outputs": [
      {
       "output_type": "stream",
       "stream": "stdout",
       "text": [
        "<a href=\"/wiki/Australia\" title=\"Australia\">Australia</a> 0\n",
        "<a href=\"/wiki/Hong_Kong\" title=\"Hong Kong\">Hong Kong</a> 2\n",
        "<a href=\"/wiki/India\" title=\"India\">India</a> 4\n",
        "<a href=\"/wiki/Malaysia\" title=\"Malaysia\">Malaysia</a> 6\n",
        "<a href=\"/wiki/United_Kingdom\" title=\"United Kingdom\">United Kingdom</a> 8\n",
        "<a href=\"/wiki/United_States\" title=\"United States\">United States</a> 10\n",
        "\n"
       ]
      },
      {
       "output_type": "stream",
       "stream": "stdout",
       "text": [
        "[u'Australia', u'Hong Kong', u'India', u'Malaysia', u'United Kingdom', u'United States']\n"
       ]
      }
     ],
     "prompt_number": 7
    },
    {
     "cell_type": "markdown",
     "metadata": {},
     "source": [
      "#### In each table, the second 'tr'(row) onwards contains the diseases. i loops through the rows (diseases), and j through the columns (countries). The results are stored in a dict, the key beng the disease, the values being another dict with countries as key and 1 or 0 as the corresponding value depending on the presence or absence of the disease. The dicts are then converted to a dataframe"
     ]
    },
    {
     "cell_type": "code",
     "collapsed": false,
     "input": [
      "countries=[\"Australia\", \"Hong Kong\", \"India\", \"Malaysia\", \"United Kingdom\", \"United States\"]\n",
      "def get_table_info(t):\n",
      "    result=defaultdict(dict)\n",
      "    for i in range(1, len(t('tr'))):##for each row in one table at a time\n",
      "        flag=0\n",
      "        List_of_diseases_in_specific_countries=defaultdict(int)\n",
      "        row=t('tr')[i]\n",
      "        for j in range(0, 6):#for each country\n",
      "            if(len(row('td'))<6 and j==5): #to take care of pertussis\n",
      "                List_of_diseases_in_specific_countries[countries[j]]=0\n",
      "            else:\n",
      "                column=row('td')[j]\n",
      "                disease=column('a')\n",
      "                if(len(disease)>0):\n",
      "                    List_of_diseases_in_specific_countries[countries[j]]=1\n",
      "                    if(flag==0):# disease is not yet recorded\n",
      "                          Disease=disease[0].content\n",
      "                          flag=1\n",
      "                elif(j==5 and flag==0):\n",
      "                    Disease=\"Occupational Hazard\"\n",
      "                    List_of_diseases_in_specific_countries[countries[j]]=0\n",
      "                else:\n",
      "                    List_of_diseases_in_specific_countries[countries[j]]=0\n",
      "        result[Disease]=List_of_diseases_in_specific_countries\n",
      "    df = pd.DataFrame.from_dict(result, orient='index')\n",
      "    return df"
     ],
     "language": "python",
     "metadata": {},
     "outputs": [],
     "prompt_number": 8
    },
    {
     "cell_type": "code",
     "collapsed": false,
     "input": [
      "Bacteria=get_table_info(tables[0])\n",
      "Virus=get_table_info(tables[1])\n",
      "Other=get_table_info(tables[2])\n",
      "Bacteria.head()"
     ],
     "language": "python",
     "metadata": {},
     "outputs": [
      {
       "html": [
        "<div style=\"max-height:1000px;max-width:1500px;overflow:auto;\">\n",
        "<table border=\"1\" class=\"dataframe\">\n",
        "  <thead>\n",
        "    <tr style=\"text-align: right;\">\n",
        "      <th></th>\n",
        "      <th>United States</th>\n",
        "      <th>Australia</th>\n",
        "      <th>India</th>\n",
        "      <th>United Kingdom</th>\n",
        "      <th>Malaysia</th>\n",
        "      <th>Hong Kong</th>\n",
        "    </tr>\n",
        "  </thead>\n",
        "  <tbody>\n",
        "    <tr>\n",
        "      <th>Anaplasmosis</th>\n",
        "      <td> 1</td>\n",
        "      <td> 0</td>\n",
        "      <td> 0</td>\n",
        "      <td> 0</td>\n",
        "      <td> 0</td>\n",
        "      <td> 0</td>\n",
        "    </tr>\n",
        "    <tr>\n",
        "      <th>Anthrax</th>\n",
        "      <td> 1</td>\n",
        "      <td> 1</td>\n",
        "      <td> 0</td>\n",
        "      <td> 1</td>\n",
        "      <td> 0</td>\n",
        "      <td> 1</td>\n",
        "    </tr>\n",
        "    <tr>\n",
        "      <th>Botulism</th>\n",
        "      <td> 1</td>\n",
        "      <td> 1</td>\n",
        "      <td> 0</td>\n",
        "      <td> 1</td>\n",
        "      <td> 0</td>\n",
        "      <td> 1</td>\n",
        "    </tr>\n",
        "    <tr>\n",
        "      <th>Brucellosis</th>\n",
        "      <td> 1</td>\n",
        "      <td> 1</td>\n",
        "      <td> 0</td>\n",
        "      <td> 1</td>\n",
        "      <td> 0</td>\n",
        "      <td> 0</td>\n",
        "    </tr>\n",
        "    <tr>\n",
        "      <th>Campylobacteriosis</th>\n",
        "      <td> 1</td>\n",
        "      <td> 1</td>\n",
        "      <td> 0</td>\n",
        "      <td> 0</td>\n",
        "      <td> 0</td>\n",
        "      <td> 0</td>\n",
        "    </tr>\n",
        "  </tbody>\n",
        "</table>\n",
        "</div>"
       ],
       "metadata": {},
       "output_type": "pyout",
       "prompt_number": 9,
       "text": [
        "                    United States  Australia  India  United Kingdom  Malaysia  \\\n",
        "Anaplasmosis                    1          0      0               0         0   \n",
        "Anthrax                         1          1      0               1         0   \n",
        "Botulism                        1          1      0               1         0   \n",
        "Brucellosis                     1          1      0               1         0   \n",
        "Campylobacteriosis              1          1      0               0         0   \n",
        "\n",
        "                    Hong Kong  \n",
        "Anaplasmosis                0  \n",
        "Anthrax                     1  \n",
        "Botulism                    1  \n",
        "Brucellosis                 0  \n",
        "Campylobacteriosis          0  "
       ]
      }
     ],
     "prompt_number": 9
    },
    {
     "cell_type": "markdown",
     "metadata": {},
     "source": [
      "####Then calculate the total number of the types of diseases in each country in each type and plot a bar graph"
     ]
    },
    {
     "cell_type": "code",
     "collapsed": false,
     "input": [
      "#drawing the graph\n",
      "country_total={\"United States\":[],\"United Kingdom\":[],\"Australia\":[],\"Malaysia\":[],\"Hong Kong\":[],\"India\":[]}\n",
      "dfs=[Bacteria, Virus, Other]\n",
      "for i in dfs:\n",
      "    for key in country_total.keys():\n",
      "         country_total[key].append(i[key].sum())\n",
      "\n",
      "  \n",
      "fig, ax = plt.subplots()\n",
      "index = np.array([0, 1.4, 2.8])\n",
      "bar_width = 0.2\n",
      "plt.bar(index, country_total[\"United States\"], bar_width, color='black',label=\"United States\")\n",
      "index+=bar_width\n",
      "plt.bar(index, country_total[\"India\"], bar_width, color='grey',label=\"India\")\n",
      "index+=bar_width\n",
      "plt.bar(index, country_total[\"United Kingdom\"], bar_width, color='purple',label=\"United Kingdom\")\n",
      "index+=bar_width\n",
      "plt.bar(index, country_total[\"Australia\"], bar_width, color='blue',label=\"Australia\")\n",
      "index+=bar_width\n",
      "plt.bar(index, country_total[\"Malaysia\"], bar_width, color='green',label=\"Malaysia\")\n",
      "index+=bar_width\n",
      "plt.bar(index, country_total[\"Hong Kong\"], bar_width, color='red',label=\"Hong Kong\")\n",
      "\n",
      "\n",
      "plt.xlabel('Countries')\n",
      "plt.ylabel('Number of Diseases')\n",
      "plt.title('Comparison of number of types diseases')\n",
      "plt.xticks(index-0.6, ('Bacteria', 'Virus', 'Other'))\n",
      "plt.legend()\n",
      "\n",
      "plt.tight_layout()\n",
      "plt.show()\n"
     ],
     "language": "python",
     "metadata": {},
     "outputs": [],
     "prompt_number": 10
    },
    {
     "cell_type": "code",
     "collapsed": false,
     "input": [],
     "language": "python",
     "metadata": {},
     "outputs": []
    }
   ],
   "metadata": {}
  }
 ]
}